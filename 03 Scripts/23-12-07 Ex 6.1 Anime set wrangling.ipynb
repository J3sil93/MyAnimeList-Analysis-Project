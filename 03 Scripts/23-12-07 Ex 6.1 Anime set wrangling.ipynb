{
 "cells": [
  {
   "cell_type": "markdown",
   "id": "d5a3fdf9-9e8b-4984-ae56-29654b03a6f9",
   "metadata": {},
   "source": [
    "# MyAnimeList.com Data set"
   ]
  },
  {
   "cell_type": "code",
   "execution_count": 1,
   "id": "b99ec60f-3908-4996-b947-cb46cd17cd78",
   "metadata": {
    "tags": []
   },
   "outputs": [],
   "source": [
    "#import libraries \n",
    "import pandas as pd \n",
    "import numpy as np \n",
    "import os \n",
    "import matplotlib.pyplot as plt\n",
    "import seaborn as sns\n",
    "import scipy "
   ]
  },
  {
   "cell_type": "code",
   "execution_count": 2,
   "id": "79f2bee4-6476-4b71-9605-32149fe9fb06",
   "metadata": {
    "tags": []
   },
   "outputs": [],
   "source": [
    "# folder shortcut path \n",
    "path = r'C:\\Users\\jecka\\2023-12-05 Achievement 6'"
   ]
  },
  {
   "cell_type": "code",
   "execution_count": 3,
   "id": "b2128b83-7354-4b96-8ffb-0ce985e57cdf",
   "metadata": {
    "tags": []
   },
   "outputs": [],
   "source": [
    "# import anime dataset\n",
    "df_anime = pd.read_csv(r'C:\\Users\\jecka\\2023-12-05 Achievement 6\\02 Data\\Original Data\\anime.csv', index_col = False)"
   ]
  },
  {
   "cell_type": "markdown",
   "id": "77c854f7-7f61-44a6-8afe-a15df65290db",
   "metadata": {},
   "source": [
    "# Consistancy Check"
   ]
  },
  {
   "cell_type": "code",
   "execution_count": 4,
   "id": "9b524b50-4587-4920-82e2-31931f69d910",
   "metadata": {
    "tags": []
   },
   "outputs": [
    {
     "data": {
      "text/html": [
       "<div>\n",
       "<style scoped>\n",
       "    .dataframe tbody tr th:only-of-type {\n",
       "        vertical-align: middle;\n",
       "    }\n",
       "\n",
       "    .dataframe tbody tr th {\n",
       "        vertical-align: top;\n",
       "    }\n",
       "\n",
       "    .dataframe thead th {\n",
       "        text-align: right;\n",
       "    }\n",
       "</style>\n",
       "<table border=\"1\" class=\"dataframe\">\n",
       "  <thead>\n",
       "    <tr style=\"text-align: right;\">\n",
       "      <th></th>\n",
       "      <th>anime_id</th>\n",
       "      <th>title</th>\n",
       "      <th>type</th>\n",
       "      <th>score</th>\n",
       "      <th>scored_by</th>\n",
       "      <th>status</th>\n",
       "      <th>episodes</th>\n",
       "      <th>start_date</th>\n",
       "      <th>end_date</th>\n",
       "      <th>source</th>\n",
       "      <th>...</th>\n",
       "      <th>producers</th>\n",
       "      <th>licensors</th>\n",
       "      <th>synopsis</th>\n",
       "      <th>background</th>\n",
       "      <th>main_picture</th>\n",
       "      <th>url</th>\n",
       "      <th>trailer_url</th>\n",
       "      <th>title_english</th>\n",
       "      <th>title_japanese</th>\n",
       "      <th>title_synonyms</th>\n",
       "    </tr>\n",
       "  </thead>\n",
       "  <tbody>\n",
       "    <tr>\n",
       "      <th>0</th>\n",
       "      <td>5114</td>\n",
       "      <td>Fullmetal Alchemist: Brotherhood</td>\n",
       "      <td>tv</td>\n",
       "      <td>9.10</td>\n",
       "      <td>2037075</td>\n",
       "      <td>finished_airing</td>\n",
       "      <td>64.0</td>\n",
       "      <td>2009-04-05</td>\n",
       "      <td>2010-07-04</td>\n",
       "      <td>manga</td>\n",
       "      <td>...</td>\n",
       "      <td>['Aniplex', 'Square Enix', 'Mainichi Broadcast...</td>\n",
       "      <td>['Funimation', 'Aniplex of America']</td>\n",
       "      <td>After a horrific alchemy experiment goes wrong...</td>\n",
       "      <td>NaN</td>\n",
       "      <td>https://cdn.myanimelist.net/images/anime/1208/...</td>\n",
       "      <td>https://myanimelist.net/anime/5114/Fullmetal_A...</td>\n",
       "      <td>https://www.youtube.com/watch?v=--IcmZkvL0Q</td>\n",
       "      <td>Fullmetal Alchemist: Brotherhood</td>\n",
       "      <td>鋼の錬金術師 FULLMETAL ALCHEMIST</td>\n",
       "      <td>['Hagane no Renkinjutsushi: Fullmetal Alchemis...</td>\n",
       "    </tr>\n",
       "    <tr>\n",
       "      <th>1</th>\n",
       "      <td>11061</td>\n",
       "      <td>Hunter x Hunter (2011)</td>\n",
       "      <td>tv</td>\n",
       "      <td>9.04</td>\n",
       "      <td>1671587</td>\n",
       "      <td>finished_airing</td>\n",
       "      <td>148.0</td>\n",
       "      <td>2011-10-02</td>\n",
       "      <td>2014-09-24</td>\n",
       "      <td>manga</td>\n",
       "      <td>...</td>\n",
       "      <td>['VAP', 'Nippon Television Network', 'Shueisha']</td>\n",
       "      <td>['VIZ Media']</td>\n",
       "      <td>Hunters devote themselves to accomplishing haz...</td>\n",
       "      <td>NaN</td>\n",
       "      <td>https://cdn.myanimelist.net/images/anime/1337/...</td>\n",
       "      <td>https://myanimelist.net/anime/11061/Hunter_x_H...</td>\n",
       "      <td>https://www.youtube.com/watch?v=D9iTQRB4XRk</td>\n",
       "      <td>Hunter x Hunter</td>\n",
       "      <td>HUNTER×HUNTER（ハンター×ハンター）</td>\n",
       "      <td>['HxH (2011)']</td>\n",
       "    </tr>\n",
       "    <tr>\n",
       "      <th>2</th>\n",
       "      <td>38524</td>\n",
       "      <td>Shingeki no Kyojin Season 3 Part 2</td>\n",
       "      <td>tv</td>\n",
       "      <td>9.05</td>\n",
       "      <td>1491491</td>\n",
       "      <td>finished_airing</td>\n",
       "      <td>10.0</td>\n",
       "      <td>2019-04-29</td>\n",
       "      <td>2019-07-01</td>\n",
       "      <td>manga</td>\n",
       "      <td>...</td>\n",
       "      <td>['Production I.G', 'Dentsu', 'Mainichi Broadca...</td>\n",
       "      <td>['Funimation']</td>\n",
       "      <td>Seeking to restore humanity's diminishing hope...</td>\n",
       "      <td>Shingeki no Kyojin adapts content from volumes...</td>\n",
       "      <td>https://cdn.myanimelist.net/images/anime/1517/...</td>\n",
       "      <td>https://myanimelist.net/anime/38524/Shingeki_n...</td>\n",
       "      <td>https://www.youtube.com/watch?v=hKHepjfj5Tw</td>\n",
       "      <td>Attack on Titan Season 3 Part 2</td>\n",
       "      <td>進撃の巨人 Season3 Part.2</td>\n",
       "      <td>[]</td>\n",
       "    </tr>\n",
       "    <tr>\n",
       "      <th>3</th>\n",
       "      <td>9253</td>\n",
       "      <td>Steins;Gate</td>\n",
       "      <td>tv</td>\n",
       "      <td>9.07</td>\n",
       "      <td>1348232</td>\n",
       "      <td>finished_airing</td>\n",
       "      <td>24.0</td>\n",
       "      <td>2011-04-06</td>\n",
       "      <td>2011-09-14</td>\n",
       "      <td>visual_novel</td>\n",
       "      <td>...</td>\n",
       "      <td>['Frontier Works', 'Media Factory', 'Kadokawa ...</td>\n",
       "      <td>['Funimation']</td>\n",
       "      <td>Eccentric scientist Rintarou Okabe has a never...</td>\n",
       "      <td>Steins;Gate is based on 5pb. and Nitroplus' vi...</td>\n",
       "      <td>https://cdn.myanimelist.net/images/anime/1935/...</td>\n",
       "      <td>https://myanimelist.net/anime/9253/Steins_Gate</td>\n",
       "      <td>https://www.youtube.com/watch?v=27OZc-ku6is</td>\n",
       "      <td>Steins;Gate</td>\n",
       "      <td>STEINS;GATE</td>\n",
       "      <td>[]</td>\n",
       "    </tr>\n",
       "    <tr>\n",
       "      <th>4</th>\n",
       "      <td>28851</td>\n",
       "      <td>Koe no Katachi</td>\n",
       "      <td>movie</td>\n",
       "      <td>8.94</td>\n",
       "      <td>1540277</td>\n",
       "      <td>finished_airing</td>\n",
       "      <td>1.0</td>\n",
       "      <td>2016-09-17</td>\n",
       "      <td>2016-09-17</td>\n",
       "      <td>manga</td>\n",
       "      <td>...</td>\n",
       "      <td>['Shochiku', 'Pony Canyon', 'Kodansha', 'ABC A...</td>\n",
       "      <td>['Eleven Arts', 'NYAV Post']</td>\n",
       "      <td>As a wild youth, elementary school student Sho...</td>\n",
       "      <td>Koe no Katachi won the following awards: Japan...</td>\n",
       "      <td>https://cdn.myanimelist.net/images/anime/1122/...</td>\n",
       "      <td>https://myanimelist.net/anime/28851/Koe_no_Kat...</td>\n",
       "      <td>https://www.youtube.com/watch?v=XBNWo25izJ8</td>\n",
       "      <td>A Silent Voice</td>\n",
       "      <td>聲の形</td>\n",
       "      <td>['The Shape of Voice']</td>\n",
       "    </tr>\n",
       "  </tbody>\n",
       "</table>\n",
       "<p>5 rows × 39 columns</p>\n",
       "</div>"
      ],
      "text/plain": [
       "   anime_id                               title   type  score  scored_by  \\\n",
       "0      5114    Fullmetal Alchemist: Brotherhood     tv   9.10    2037075   \n",
       "1     11061              Hunter x Hunter (2011)     tv   9.04    1671587   \n",
       "2     38524  Shingeki no Kyojin Season 3 Part 2     tv   9.05    1491491   \n",
       "3      9253                         Steins;Gate     tv   9.07    1348232   \n",
       "4     28851                      Koe no Katachi  movie   8.94    1540277   \n",
       "\n",
       "            status  episodes  start_date    end_date        source  ...  \\\n",
       "0  finished_airing      64.0  2009-04-05  2010-07-04         manga  ...   \n",
       "1  finished_airing     148.0  2011-10-02  2014-09-24         manga  ...   \n",
       "2  finished_airing      10.0  2019-04-29  2019-07-01         manga  ...   \n",
       "3  finished_airing      24.0  2011-04-06  2011-09-14  visual_novel  ...   \n",
       "4  finished_airing       1.0  2016-09-17  2016-09-17         manga  ...   \n",
       "\n",
       "                                           producers  \\\n",
       "0  ['Aniplex', 'Square Enix', 'Mainichi Broadcast...   \n",
       "1   ['VAP', 'Nippon Television Network', 'Shueisha']   \n",
       "2  ['Production I.G', 'Dentsu', 'Mainichi Broadca...   \n",
       "3  ['Frontier Works', 'Media Factory', 'Kadokawa ...   \n",
       "4  ['Shochiku', 'Pony Canyon', 'Kodansha', 'ABC A...   \n",
       "\n",
       "                              licensors  \\\n",
       "0  ['Funimation', 'Aniplex of America']   \n",
       "1                         ['VIZ Media']   \n",
       "2                        ['Funimation']   \n",
       "3                        ['Funimation']   \n",
       "4          ['Eleven Arts', 'NYAV Post']   \n",
       "\n",
       "                                            synopsis  \\\n",
       "0  After a horrific alchemy experiment goes wrong...   \n",
       "1  Hunters devote themselves to accomplishing haz...   \n",
       "2  Seeking to restore humanity's diminishing hope...   \n",
       "3  Eccentric scientist Rintarou Okabe has a never...   \n",
       "4  As a wild youth, elementary school student Sho...   \n",
       "\n",
       "                                          background  \\\n",
       "0                                                NaN   \n",
       "1                                                NaN   \n",
       "2  Shingeki no Kyojin adapts content from volumes...   \n",
       "3  Steins;Gate is based on 5pb. and Nitroplus' vi...   \n",
       "4  Koe no Katachi won the following awards: Japan...   \n",
       "\n",
       "                                        main_picture  \\\n",
       "0  https://cdn.myanimelist.net/images/anime/1208/...   \n",
       "1  https://cdn.myanimelist.net/images/anime/1337/...   \n",
       "2  https://cdn.myanimelist.net/images/anime/1517/...   \n",
       "3  https://cdn.myanimelist.net/images/anime/1935/...   \n",
       "4  https://cdn.myanimelist.net/images/anime/1122/...   \n",
       "\n",
       "                                                 url  \\\n",
       "0  https://myanimelist.net/anime/5114/Fullmetal_A...   \n",
       "1  https://myanimelist.net/anime/11061/Hunter_x_H...   \n",
       "2  https://myanimelist.net/anime/38524/Shingeki_n...   \n",
       "3     https://myanimelist.net/anime/9253/Steins_Gate   \n",
       "4  https://myanimelist.net/anime/28851/Koe_no_Kat...   \n",
       "\n",
       "                                   trailer_url  \\\n",
       "0  https://www.youtube.com/watch?v=--IcmZkvL0Q   \n",
       "1  https://www.youtube.com/watch?v=D9iTQRB4XRk   \n",
       "2  https://www.youtube.com/watch?v=hKHepjfj5Tw   \n",
       "3  https://www.youtube.com/watch?v=27OZc-ku6is   \n",
       "4  https://www.youtube.com/watch?v=XBNWo25izJ8   \n",
       "\n",
       "                      title_english              title_japanese  \\\n",
       "0  Fullmetal Alchemist: Brotherhood  鋼の錬金術師 FULLMETAL ALCHEMIST   \n",
       "1                   Hunter x Hunter    HUNTER×HUNTER（ハンター×ハンター）   \n",
       "2   Attack on Titan Season 3 Part 2        進撃の巨人 Season3 Part.2   \n",
       "3                       Steins;Gate                 STEINS;GATE   \n",
       "4                    A Silent Voice                         聲の形   \n",
       "\n",
       "                                      title_synonyms  \n",
       "0  ['Hagane no Renkinjutsushi: Fullmetal Alchemis...  \n",
       "1                                     ['HxH (2011)']  \n",
       "2                                                 []  \n",
       "3                                                 []  \n",
       "4                             ['The Shape of Voice']  \n",
       "\n",
       "[5 rows x 39 columns]"
      ]
     },
     "execution_count": 4,
     "metadata": {},
     "output_type": "execute_result"
    }
   ],
   "source": [
    "#Checking Dataset\n",
    "df_anime.head()"
   ]
  },
  {
   "cell_type": "code",
   "execution_count": 5,
   "id": "0e38d781-493e-4842-b600-e5c54b458126",
   "metadata": {
    "tags": []
   },
   "outputs": [
    {
     "data": {
      "text/plain": [
       "(24985, 39)"
      ]
     },
     "execution_count": 5,
     "metadata": {},
     "output_type": "execute_result"
    }
   ],
   "source": [
    "#checking shape\n",
    "df_anime.shape"
   ]
  },
  {
   "cell_type": "code",
   "execution_count": 6,
   "id": "e31b24b5-ed6e-4b68-b39f-457ff9583c8e",
   "metadata": {
    "tags": []
   },
   "outputs": [
    {
     "data": {
      "text/plain": [
       "['anime_id',\n",
       " 'title',\n",
       " 'type',\n",
       " 'score',\n",
       " 'scored_by',\n",
       " 'status',\n",
       " 'episodes',\n",
       " 'start_date',\n",
       " 'end_date',\n",
       " 'source',\n",
       " 'members',\n",
       " 'favorites',\n",
       " 'episode_duration',\n",
       " 'total_duration',\n",
       " 'rating',\n",
       " 'sfw',\n",
       " 'approved',\n",
       " 'created_at',\n",
       " 'updated_at',\n",
       " 'start_year',\n",
       " 'start_season',\n",
       " 'real_start_date',\n",
       " 'real_end_date',\n",
       " 'broadcast_day',\n",
       " 'broadcast_time',\n",
       " 'genres',\n",
       " 'themes',\n",
       " 'demographics',\n",
       " 'studios',\n",
       " 'producers',\n",
       " 'licensors',\n",
       " 'synopsis',\n",
       " 'background',\n",
       " 'main_picture',\n",
       " 'url',\n",
       " 'trailer_url',\n",
       " 'title_english',\n",
       " 'title_japanese',\n",
       " 'title_synonyms']"
      ]
     },
     "execution_count": 6,
     "metadata": {},
     "output_type": "execute_result"
    }
   ],
   "source": [
    "#listing column names\n",
    "df_anime.columns.to_list()"
   ]
  },
  {
   "cell_type": "markdown",
   "id": "611a6598-22cc-4c75-8aaf-5e85cc722869",
   "metadata": {},
   "source": [
    "## Data Wrangling/Cleaning process"
   ]
  },
  {
   "cell_type": "code",
   "execution_count": 7,
   "id": "6e0d1f7d-e8c0-4ff1-b70a-c6b53ae24591",
   "metadata": {
    "tags": []
   },
   "outputs": [
    {
     "name": "stdout",
     "output_type": "stream",
     "text": [
      "type\n",
      "start_date\n",
      "end_date\n",
      "source\n",
      "episode_duration\n",
      "total_duration\n",
      "rating\n",
      "start_season\n",
      "real_start_date\n",
      "real_end_date\n",
      "broadcast_day\n",
      "broadcast_time\n",
      "synopsis\n",
      "background\n",
      "main_picture\n",
      "trailer_url\n",
      "title_english\n",
      "title_japanese\n"
     ]
    }
   ],
   "source": [
    "# Check if there is mixed data types \n",
    "for col in df_anime.columns.tolist():\n",
    "  weird = (df_anime[[col]].applymap(type) != df_anime[[col]].iloc[0].apply(type)).any(axis = 1)\n",
    "  if len (df_anime[weird]) > 0:\n",
    "    print (col)"
   ]
  },
  {
   "cell_type": "code",
   "execution_count": 11,
   "id": "a7e84ec0-131b-44a1-b274-a37803e17421",
   "metadata": {
    "tags": []
   },
   "outputs": [
    {
     "data": {
      "text/plain": [
       "anime_id              int64\n",
       "title                object\n",
       "type                 object\n",
       "score               float64\n",
       "scored_by             int64\n",
       "status               object\n",
       "episodes            float64\n",
       "start_date           object\n",
       "end_date             object\n",
       "source               object\n",
       "members               int64\n",
       "favorites             int64\n",
       "episode_duration     object\n",
       "total_duration       object\n",
       "rating               object\n",
       "sfw                    bool\n",
       "approved               bool\n",
       "created_at           object\n",
       "updated_at           object\n",
       "start_year          float64\n",
       "start_season         object\n",
       "real_start_date      object\n",
       "real_end_date        object\n",
       "broadcast_day        object\n",
       "broadcast_time       object\n",
       "genres               object\n",
       "themes               object\n",
       "demographics         object\n",
       "studios              object\n",
       "producers            object\n",
       "licensors            object\n",
       "synopsis             object\n",
       "background           object\n",
       "main_picture         object\n",
       "url                  object\n",
       "trailer_url          object\n",
       "title_english        object\n",
       "title_japanese       object\n",
       "title_synonyms       object\n",
       "dtype: object"
      ]
     },
     "execution_count": 11,
     "metadata": {},
     "output_type": "execute_result"
    }
   ],
   "source": [
    "#checking data types\n",
    "df_anime.dtypes"
   ]
  },
  {
   "cell_type": "code",
   "execution_count": 12,
   "id": "cdf7d954-8f20-4034-a4af-688f4e2347b8",
   "metadata": {
    "tags": []
   },
   "outputs": [
    {
     "data": {
      "text/plain": [
       "anime_id                0\n",
       "title                   0\n",
       "type                   58\n",
       "score                8935\n",
       "scored_by               0\n",
       "status                  0\n",
       "episodes              547\n",
       "start_date            875\n",
       "end_date             2770\n",
       "source               3561\n",
       "members                 0\n",
       "favorites               0\n",
       "episode_duration      598\n",
       "total_duration        823\n",
       "rating                580\n",
       "sfw                     0\n",
       "approved                0\n",
       "created_at              0\n",
       "updated_at              0\n",
       "start_year           4684\n",
       "start_season         4684\n",
       "real_start_date       875\n",
       "real_end_date        2770\n",
       "broadcast_day       21535\n",
       "broadcast_time      21672\n",
       "genres                  0\n",
       "themes                  0\n",
       "demographics            0\n",
       "studios                 0\n",
       "producers               0\n",
       "licensors               0\n",
       "synopsis             4493\n",
       "background          22535\n",
       "main_picture          154\n",
       "url                     0\n",
       "trailer_url         20261\n",
       "title_english       14583\n",
       "title_japanese         90\n",
       "title_synonyms          0\n",
       "dtype: int64"
      ]
     },
     "execution_count": 12,
     "metadata": {},
     "output_type": "execute_result"
    }
   ],
   "source": [
    "# Checking for missing values\n",
    "df_anime.isnull().sum()"
   ]
  },
  {
   "cell_type": "markdown",
   "id": "600e6448-4069-45b1-a490-be1e0340458c",
   "metadata": {},
   "source": [
    "### Checking columns with empty []"
   ]
  },
  {
   "cell_type": "code",
   "execution_count": 13,
   "id": "510dc20f-4e01-461c-8656-5b31a93e846f",
   "metadata": {
    "tags": []
   },
   "outputs": [
    {
     "data": {
      "text/plain": [
       "demographics\n",
       "[]                     15471\n",
       "['Kids']                5896\n",
       "['Shounen']             1828\n",
       "['Seinen']               962\n",
       "['Shoujo']               631\n",
       "['Josei']                120\n",
       "['Kids', 'Shounen']       53\n",
       "['Kids', 'Shoujo']        24\n",
       "Name: count, dtype: int64"
      ]
     },
     "execution_count": 13,
     "metadata": {},
     "output_type": "execute_result"
    }
   ],
   "source": [
    "df_anime['demographics'].value_counts()"
   ]
  },
  {
   "cell_type": "code",
   "execution_count": 14,
   "id": "aa463a5b-e182-4bd8-a998-a49ed81aaa86",
   "metadata": {
    "tags": []
   },
   "outputs": [
    {
     "data": {
      "text/plain": [
       "licensors\n",
       "[]                                                                          20234\n",
       "['Funimation']                                                                958\n",
       "['Sentai Filmworks']                                                          823\n",
       "['Discotek Media']                                                            281\n",
       "['Aniplex of America']                                                        223\n",
       "                                                                            ...  \n",
       "['Bandai Entertainment', 'Aniplex of America']                                  1\n",
       "['Crunchyroll', 'Muse Communication']                                           1\n",
       "['ADV Films', 'Warner Bros. Pictures']                                          1\n",
       "['Media Blasters', 'Discotek Media', 'NYAV Post', 'Manga Entertainment']        1\n",
       "['B.CMAY PICTURES']                                                             1\n",
       "Name: count, Length: 264, dtype: int64"
      ]
     },
     "execution_count": 14,
     "metadata": {},
     "output_type": "execute_result"
    }
   ],
   "source": [
    "df_anime['licensors'].value_counts()"
   ]
  },
  {
   "cell_type": "code",
   "execution_count": 15,
   "id": "322afd51-4c5e-4a07-94a3-15ecce7c92b2",
   "metadata": {
    "tags": []
   },
   "outputs": [
    {
     "data": {
      "text/plain": [
       "genres\n",
       "[]                                                                4988\n",
       "['Comedy']                                                        2289\n",
       "['Fantasy']                                                       1336\n",
       "['Hentai']                                                        1182\n",
       "['Drama']                                                          633\n",
       "                                                                  ... \n",
       "['Action', 'Mystery', 'Romance', 'Sci-Fi']                           1\n",
       "['Adventure', 'Comedy', 'Ecchi', 'Romance']                          1\n",
       "['Boys Love', 'Comedy', 'Drama', 'Erotica', 'Supernatural']          1\n",
       "['Action', 'Drama', 'Fantasy', 'Mystery', 'Romance']                 1\n",
       "['Action', 'Drama', 'Horror', 'Mystery', 'Sci-Fi', 'Suspense']       1\n",
       "Name: count, Length: 998, dtype: int64"
      ]
     },
     "execution_count": 15,
     "metadata": {},
     "output_type": "execute_result"
    }
   ],
   "source": [
    "df_anime['genres'].value_counts()"
   ]
  },
  {
   "cell_type": "code",
   "execution_count": 16,
   "id": "9667f200-8aa7-4e9b-8658-a7a69a09541d",
   "metadata": {
    "tags": []
   },
   "outputs": [
    {
     "data": {
      "text/plain": [
       "themes\n",
       "[]                                                                      11020\n",
       "['Music']                                                                2878\n",
       "['School']                                                                843\n",
       "['Historical']                                                            801\n",
       "['Anthropomorphic']                                                       687\n",
       "                                                                        ...  \n",
       "['Combat Sports', 'Mecha']                                                  1\n",
       "['Historical', 'Mecha', 'Otaku Culture']                                    1\n",
       "['Showbiz', 'Workplace']                                                    1\n",
       "['Music', 'Reverse Harem', 'School', 'Visual Arts']                         1\n",
       "['Anthropomorphic', 'Mahou Shoujo', 'Martial Arts', 'Reincarnation']        1\n",
       "Name: count, Length: 846, dtype: int64"
      ]
     },
     "execution_count": 16,
     "metadata": {},
     "output_type": "execute_result"
    }
   ],
   "source": [
    "df_anime['themes'].value_counts()"
   ]
  },
  {
   "cell_type": "code",
   "execution_count": 17,
   "id": "b2723a26-df07-4a63-8d69-9c21c1423213",
   "metadata": {
    "tags": []
   },
   "outputs": [
    {
     "data": {
      "text/plain": [
       "studios\n",
       "[]                                                      10418\n",
       "['Toei Animation']                                        836\n",
       "['Sunrise']                                               533\n",
       "['J.C.Staff']                                             388\n",
       "['Shanghai Animation Film Studio']                        336\n",
       "                                                        ...  \n",
       "['Kinema Citrus', 'IMAGICA Lab.']                           1\n",
       "['Barnum Studio', 'SILVER LINK.', 'Connect']                1\n",
       "['SANZIGEN', 'DMM.futureworks']                             1\n",
       "['Studio Colorido', 'Studio Jemi', 'Studio Massket']        1\n",
       "['Flint Sugar']                                             1\n",
       "Name: count, Length: 1572, dtype: int64"
      ]
     },
     "execution_count": 17,
     "metadata": {},
     "output_type": "execute_result"
    }
   ],
   "source": [
    "df_anime['studios'].value_counts()"
   ]
  },
  {
   "cell_type": "code",
   "execution_count": 18,
   "id": "a02dea72-3469-4fae-aff0-c942cfa661ed",
   "metadata": {
    "tags": []
   },
   "outputs": [
    {
     "data": {
      "text/plain": [
       "producers\n",
       "[]                                                                                                                                        13301\n",
       "['NHK']                                                                                                                                     754\n",
       "['Pink Pineapple']                                                                                                                          259\n",
       "['Sanrio']                                                                                                                                  175\n",
       "['Aniplex']                                                                                                                                 126\n",
       "                                                                                                                                          ...  \n",
       "['Sunrise', 'Atelier Musa']                                                                                                                   1\n",
       "['Nippon Columbia', 'KlockWorx', 'Glovision', 'Sony PCL', 'Kadokawa']                                                                         1\n",
       "['TV Tokyo', 'Shogakukan-Shueisha Productions', 'Media Factory', 'Half H.P Studio', 'AT-X', 'flying DOG', 'Sony Music Communications']        1\n",
       "['Nippon Columbia', 'Bandai Namco Entertainment', 'Cygames']                                                                                  1\n",
       "['Stay Luck']                                                                                                                                 1\n",
       "Name: count, Length: 4465, dtype: int64"
      ]
     },
     "execution_count": 18,
     "metadata": {},
     "output_type": "execute_result"
    }
   ],
   "source": [
    "df_anime['producers'].value_counts()"
   ]
  },
  {
   "cell_type": "code",
   "execution_count": 19,
   "id": "c212cabc-bd4c-4c8d-bd7a-120bb1c6b81f",
   "metadata": {
    "tags": []
   },
   "outputs": [],
   "source": [
    "#Dropping Columns either because not necessary or missing too much data\n",
    "df_anime = df_anime.drop(columns = ['start_date', \n",
    "                                    'end_date',\n",
    "                                    'sfw',\n",
    "                                    'approved',\n",
    "                                    'created_at',\n",
    "                                    'updated_at',\n",
    "                                    'real_start_date',\n",
    "                                    'real_end_date',\n",
    "                                    'broadcast_day',\n",
    "                                    'broadcast_time',\n",
    "                                    'themes',\n",
    "                                    'studios',\n",
    "                                    'producers',\n",
    "                                    'licensors',\n",
    "                                    'synopsis',\n",
    "                                    'background',\n",
    "                                    'main_picture',\n",
    "                                    'url',\n",
    "                                    'trailer_url',\n",
    "                                    'title_english',\n",
    "                                    'title_japanese',\n",
    "                                    'title_synonyms'])"
   ]
  },
  {
   "cell_type": "code",
   "execution_count": 20,
   "id": "b7851946-5b68-4899-a1cb-434700769222",
   "metadata": {
    "tags": []
   },
   "outputs": [
    {
     "data": {
      "text/plain": [
       "(24985, 17)"
      ]
     },
     "execution_count": 20,
     "metadata": {},
     "output_type": "execute_result"
    }
   ],
   "source": [
    "#checking shape after dropping columns\n",
    "df_anime.shape"
   ]
  },
  {
   "cell_type": "code",
   "execution_count": 21,
   "id": "db2e3c44-9293-4f4a-8668-c88cc6c626ff",
   "metadata": {
    "tags": []
   },
   "outputs": [
    {
     "data": {
      "text/html": [
       "<div>\n",
       "<style scoped>\n",
       "    .dataframe tbody tr th:only-of-type {\n",
       "        vertical-align: middle;\n",
       "    }\n",
       "\n",
       "    .dataframe tbody tr th {\n",
       "        vertical-align: top;\n",
       "    }\n",
       "\n",
       "    .dataframe thead th {\n",
       "        text-align: right;\n",
       "    }\n",
       "</style>\n",
       "<table border=\"1\" class=\"dataframe\">\n",
       "  <thead>\n",
       "    <tr style=\"text-align: right;\">\n",
       "      <th></th>\n",
       "      <th>anime_id</th>\n",
       "      <th>title</th>\n",
       "      <th>type</th>\n",
       "      <th>score</th>\n",
       "      <th>scored_by</th>\n",
       "      <th>status</th>\n",
       "      <th>episodes</th>\n",
       "      <th>source</th>\n",
       "      <th>members</th>\n",
       "      <th>favorites</th>\n",
       "      <th>episode_duration</th>\n",
       "      <th>total_duration</th>\n",
       "      <th>rating</th>\n",
       "      <th>start_year</th>\n",
       "      <th>start_season</th>\n",
       "      <th>genres</th>\n",
       "      <th>demographics</th>\n",
       "    </tr>\n",
       "  </thead>\n",
       "  <tbody>\n",
       "  </tbody>\n",
       "</table>\n",
       "</div>"
      ],
      "text/plain": [
       "Empty DataFrame\n",
       "Columns: [anime_id, title, type, score, scored_by, status, episodes, source, members, favorites, episode_duration, total_duration, rating, start_year, start_season, genres, demographics]\n",
       "Index: []"
      ]
     },
     "execution_count": 21,
     "metadata": {},
     "output_type": "execute_result"
    }
   ],
   "source": [
    "#check for any duplicates \n",
    "anime_dups = df_anime[df_anime.duplicated()]\n",
    "anime_dups.head(20)"
   ]
  },
  {
   "cell_type": "code",
   "execution_count": 22,
   "id": "cf0de355-728c-45a8-9098-2a8a59b63387",
   "metadata": {
    "tags": []
   },
   "outputs": [
    {
     "data": {
      "text/html": [
       "<div>\n",
       "<style scoped>\n",
       "    .dataframe tbody tr th:only-of-type {\n",
       "        vertical-align: middle;\n",
       "    }\n",
       "\n",
       "    .dataframe tbody tr th {\n",
       "        vertical-align: top;\n",
       "    }\n",
       "\n",
       "    .dataframe thead th {\n",
       "        text-align: right;\n",
       "    }\n",
       "</style>\n",
       "<table border=\"1\" class=\"dataframe\">\n",
       "  <thead>\n",
       "    <tr style=\"text-align: right;\">\n",
       "      <th></th>\n",
       "      <th>anime_id</th>\n",
       "      <th>score</th>\n",
       "      <th>scored_by</th>\n",
       "      <th>episodes</th>\n",
       "      <th>members</th>\n",
       "      <th>favorites</th>\n",
       "      <th>start_year</th>\n",
       "    </tr>\n",
       "  </thead>\n",
       "  <tbody>\n",
       "    <tr>\n",
       "      <th>count</th>\n",
       "      <td>24985.000000</td>\n",
       "      <td>16050.000000</td>\n",
       "      <td>2.498500e+04</td>\n",
       "      <td>24438.000000</td>\n",
       "      <td>2.498500e+04</td>\n",
       "      <td>24985.000000</td>\n",
       "      <td>20301.000000</td>\n",
       "    </tr>\n",
       "    <tr>\n",
       "      <th>mean</th>\n",
       "      <td>29871.034100</td>\n",
       "      <td>6.418470</td>\n",
       "      <td>1.915352e+04</td>\n",
       "      <td>14.877486</td>\n",
       "      <td>3.758410e+04</td>\n",
       "      <td>437.147328</td>\n",
       "      <td>2008.798237</td>\n",
       "    </tr>\n",
       "    <tr>\n",
       "      <th>std</th>\n",
       "      <td>18020.608498</td>\n",
       "      <td>0.899305</td>\n",
       "      <td>9.486704e+04</td>\n",
       "      <td>48.447625</td>\n",
       "      <td>1.583635e+05</td>\n",
       "      <td>4390.169453</td>\n",
       "      <td>13.404009</td>\n",
       "    </tr>\n",
       "    <tr>\n",
       "      <th>min</th>\n",
       "      <td>1.000000</td>\n",
       "      <td>1.850000</td>\n",
       "      <td>0.000000e+00</td>\n",
       "      <td>1.000000</td>\n",
       "      <td>0.000000e+00</td>\n",
       "      <td>0.000000</td>\n",
       "      <td>1917.000000</td>\n",
       "    </tr>\n",
       "    <tr>\n",
       "      <th>25%</th>\n",
       "      <td>10545.000000</td>\n",
       "      <td>5.800000</td>\n",
       "      <td>5.100000e+01</td>\n",
       "      <td>1.000000</td>\n",
       "      <td>2.200000e+02</td>\n",
       "      <td>0.000000</td>\n",
       "      <td>2003.000000</td>\n",
       "    </tr>\n",
       "    <tr>\n",
       "      <th>50%</th>\n",
       "      <td>34692.000000</td>\n",
       "      <td>6.420000</td>\n",
       "      <td>3.070000e+02</td>\n",
       "      <td>2.000000</td>\n",
       "      <td>1.085000e+03</td>\n",
       "      <td>1.000000</td>\n",
       "      <td>2013.000000</td>\n",
       "    </tr>\n",
       "    <tr>\n",
       "      <th>75%</th>\n",
       "      <td>45347.000000</td>\n",
       "      <td>7.070000</td>\n",
       "      <td>3.433000e+03</td>\n",
       "      <td>13.000000</td>\n",
       "      <td>9.499000e+03</td>\n",
       "      <td>18.000000</td>\n",
       "      <td>2018.000000</td>\n",
       "    </tr>\n",
       "    <tr>\n",
       "      <th>max</th>\n",
       "      <td>56202.000000</td>\n",
       "      <td>9.100000</td>\n",
       "      <td>2.685033e+06</td>\n",
       "      <td>3057.000000</td>\n",
       "      <td>3.779820e+06</td>\n",
       "      <td>219036.000000</td>\n",
       "      <td>2025.000000</td>\n",
       "    </tr>\n",
       "  </tbody>\n",
       "</table>\n",
       "</div>"
      ],
      "text/plain": [
       "           anime_id         score     scored_by      episodes       members  \\\n",
       "count  24985.000000  16050.000000  2.498500e+04  24438.000000  2.498500e+04   \n",
       "mean   29871.034100      6.418470  1.915352e+04     14.877486  3.758410e+04   \n",
       "std    18020.608498      0.899305  9.486704e+04     48.447625  1.583635e+05   \n",
       "min        1.000000      1.850000  0.000000e+00      1.000000  0.000000e+00   \n",
       "25%    10545.000000      5.800000  5.100000e+01      1.000000  2.200000e+02   \n",
       "50%    34692.000000      6.420000  3.070000e+02      2.000000  1.085000e+03   \n",
       "75%    45347.000000      7.070000  3.433000e+03     13.000000  9.499000e+03   \n",
       "max    56202.000000      9.100000  2.685033e+06   3057.000000  3.779820e+06   \n",
       "\n",
       "           favorites    start_year  \n",
       "count   24985.000000  20301.000000  \n",
       "mean      437.147328   2008.798237  \n",
       "std      4390.169453     13.404009  \n",
       "min         0.000000   1917.000000  \n",
       "25%         0.000000   2003.000000  \n",
       "50%         1.000000   2013.000000  \n",
       "75%        18.000000   2018.000000  \n",
       "max    219036.000000   2025.000000  "
      ]
     },
     "execution_count": 22,
     "metadata": {},
     "output_type": "execute_result"
    }
   ],
   "source": [
    "#Checking data with numerical values\n",
    "df_anime.describe()"
   ]
  },
  {
   "cell_type": "code",
   "execution_count": 23,
   "id": "cd6b37d0-56f0-40a9-9186-bce02660518a",
   "metadata": {
    "tags": []
   },
   "outputs": [
    {
     "data": {
      "text/html": [
       "<div>\n",
       "<style scoped>\n",
       "    .dataframe tbody tr th:only-of-type {\n",
       "        vertical-align: middle;\n",
       "    }\n",
       "\n",
       "    .dataframe tbody tr th {\n",
       "        vertical-align: top;\n",
       "    }\n",
       "\n",
       "    .dataframe thead th {\n",
       "        text-align: right;\n",
       "    }\n",
       "</style>\n",
       "<table border=\"1\" class=\"dataframe\">\n",
       "  <thead>\n",
       "    <tr style=\"text-align: right;\">\n",
       "      <th></th>\n",
       "      <th>anime_id</th>\n",
       "      <th>title</th>\n",
       "      <th>type</th>\n",
       "      <th>score</th>\n",
       "      <th>scored_by</th>\n",
       "      <th>status</th>\n",
       "      <th>episodes</th>\n",
       "      <th>source</th>\n",
       "      <th>members</th>\n",
       "      <th>favorites</th>\n",
       "      <th>episode_duration</th>\n",
       "      <th>total_duration</th>\n",
       "      <th>rating</th>\n",
       "      <th>start_year</th>\n",
       "      <th>start_season</th>\n",
       "      <th>genres</th>\n",
       "      <th>demographics</th>\n",
       "    </tr>\n",
       "  </thead>\n",
       "  <tbody>\n",
       "    <tr>\n",
       "      <th>0</th>\n",
       "      <td>5114</td>\n",
       "      <td>Fullmetal Alchemist: Brotherhood</td>\n",
       "      <td>tv</td>\n",
       "      <td>9.10</td>\n",
       "      <td>2037075</td>\n",
       "      <td>finished_airing</td>\n",
       "      <td>64.0</td>\n",
       "      <td>manga</td>\n",
       "      <td>3206028</td>\n",
       "      <td>219036</td>\n",
       "      <td>0 days 00:24:20</td>\n",
       "      <td>1 days 01:57:20</td>\n",
       "      <td>r</td>\n",
       "      <td>2009.0</td>\n",
       "      <td>spring</td>\n",
       "      <td>['Action', 'Adventure', 'Drama', 'Fantasy']</td>\n",
       "      <td>['Shounen']</td>\n",
       "    </tr>\n",
       "    <tr>\n",
       "      <th>1</th>\n",
       "      <td>11061</td>\n",
       "      <td>Hunter x Hunter (2011)</td>\n",
       "      <td>tv</td>\n",
       "      <td>9.04</td>\n",
       "      <td>1671587</td>\n",
       "      <td>finished_airing</td>\n",
       "      <td>148.0</td>\n",
       "      <td>manga</td>\n",
       "      <td>2688079</td>\n",
       "      <td>202109</td>\n",
       "      <td>0 days 00:23:37</td>\n",
       "      <td>2 days 10:15:16</td>\n",
       "      <td>pg_13</td>\n",
       "      <td>2011.0</td>\n",
       "      <td>fall</td>\n",
       "      <td>['Action', 'Adventure', 'Fantasy']</td>\n",
       "      <td>['Shounen']</td>\n",
       "    </tr>\n",
       "    <tr>\n",
       "      <th>2</th>\n",
       "      <td>38524</td>\n",
       "      <td>Shingeki no Kyojin Season 3 Part 2</td>\n",
       "      <td>tv</td>\n",
       "      <td>9.05</td>\n",
       "      <td>1491491</td>\n",
       "      <td>finished_airing</td>\n",
       "      <td>10.0</td>\n",
       "      <td>manga</td>\n",
       "      <td>2133927</td>\n",
       "      <td>55644</td>\n",
       "      <td>0 days 00:23:55</td>\n",
       "      <td>0 days 03:59:10</td>\n",
       "      <td>r</td>\n",
       "      <td>2019.0</td>\n",
       "      <td>spring</td>\n",
       "      <td>['Action', 'Drama']</td>\n",
       "      <td>['Shounen']</td>\n",
       "    </tr>\n",
       "    <tr>\n",
       "      <th>3</th>\n",
       "      <td>9253</td>\n",
       "      <td>Steins;Gate</td>\n",
       "      <td>tv</td>\n",
       "      <td>9.07</td>\n",
       "      <td>1348232</td>\n",
       "      <td>finished_airing</td>\n",
       "      <td>24.0</td>\n",
       "      <td>visual_novel</td>\n",
       "      <td>2463954</td>\n",
       "      <td>184312</td>\n",
       "      <td>0 days 00:24:20</td>\n",
       "      <td>0 days 09:44:00</td>\n",
       "      <td>pg_13</td>\n",
       "      <td>2011.0</td>\n",
       "      <td>spring</td>\n",
       "      <td>['Drama', 'Sci-Fi', 'Suspense']</td>\n",
       "      <td>[]</td>\n",
       "    </tr>\n",
       "    <tr>\n",
       "      <th>4</th>\n",
       "      <td>28851</td>\n",
       "      <td>Koe no Katachi</td>\n",
       "      <td>movie</td>\n",
       "      <td>8.94</td>\n",
       "      <td>1540277</td>\n",
       "      <td>finished_airing</td>\n",
       "      <td>1.0</td>\n",
       "      <td>manga</td>\n",
       "      <td>2218467</td>\n",
       "      <td>84124</td>\n",
       "      <td>0 days 02:10:03</td>\n",
       "      <td>0 days 02:10:03</td>\n",
       "      <td>pg_13</td>\n",
       "      <td>2016.0</td>\n",
       "      <td>summer</td>\n",
       "      <td>['Award Winning', 'Drama']</td>\n",
       "      <td>['Shounen']</td>\n",
       "    </tr>\n",
       "  </tbody>\n",
       "</table>\n",
       "</div>"
      ],
      "text/plain": [
       "   anime_id                               title   type  score  scored_by  \\\n",
       "0      5114    Fullmetal Alchemist: Brotherhood     tv   9.10    2037075   \n",
       "1     11061              Hunter x Hunter (2011)     tv   9.04    1671587   \n",
       "2     38524  Shingeki no Kyojin Season 3 Part 2     tv   9.05    1491491   \n",
       "3      9253                         Steins;Gate     tv   9.07    1348232   \n",
       "4     28851                      Koe no Katachi  movie   8.94    1540277   \n",
       "\n",
       "            status  episodes        source  members  favorites  \\\n",
       "0  finished_airing      64.0         manga  3206028     219036   \n",
       "1  finished_airing     148.0         manga  2688079     202109   \n",
       "2  finished_airing      10.0         manga  2133927      55644   \n",
       "3  finished_airing      24.0  visual_novel  2463954     184312   \n",
       "4  finished_airing       1.0         manga  2218467      84124   \n",
       "\n",
       "  episode_duration   total_duration rating  start_year start_season  \\\n",
       "0  0 days 00:24:20  1 days 01:57:20      r      2009.0       spring   \n",
       "1  0 days 00:23:37  2 days 10:15:16  pg_13      2011.0         fall   \n",
       "2  0 days 00:23:55  0 days 03:59:10      r      2019.0       spring   \n",
       "3  0 days 00:24:20  0 days 09:44:00  pg_13      2011.0       spring   \n",
       "4  0 days 02:10:03  0 days 02:10:03  pg_13      2016.0       summer   \n",
       "\n",
       "                                        genres demographics  \n",
       "0  ['Action', 'Adventure', 'Drama', 'Fantasy']  ['Shounen']  \n",
       "1           ['Action', 'Adventure', 'Fantasy']  ['Shounen']  \n",
       "2                          ['Action', 'Drama']  ['Shounen']  \n",
       "3              ['Drama', 'Sci-Fi', 'Suspense']           []  \n",
       "4                   ['Award Winning', 'Drama']  ['Shounen']  "
      ]
     },
     "execution_count": 23,
     "metadata": {},
     "output_type": "execute_result"
    }
   ],
   "source": [
    "df_anime.head()"
   ]
  },
  {
   "cell_type": "markdown",
   "id": "1101a916-fe34-4321-9fcf-e0719ac623bb",
   "metadata": {},
   "source": [
    "### Changing MRA Ratings from lowercase to uppercase"
   ]
  },
  {
   "cell_type": "code",
   "execution_count": 24,
   "id": "ed582b0c-f200-4fc6-ac3c-3905542001a2",
   "metadata": {
    "tags": []
   },
   "outputs": [],
   "source": [
    "# Convert 'rating' column to uppercase\n",
    "df_anime['rating'] = df_anime['rating'].str.upper()"
   ]
  },
  {
   "cell_type": "code",
   "execution_count": 30,
   "id": "85b7c9a3-c30f-4216-8216-57bdf41917c1",
   "metadata": {
    "tags": []
   },
   "outputs": [],
   "source": [
    "# Export to csv\n",
    "df_anime.to_csv(os.path.join(path,'02 Data','Prepared Data', 'Anime Cleaned.csv'), index=False)"
   ]
  },
  {
   "cell_type": "markdown",
   "id": "f93007b8-83d9-403f-a680-1b61c195da68",
   "metadata": {},
   "source": [
    "I also added a column with excel identifying the origins of the series/movie (Japan, South Korea, China, Taiwan, Singapore). All of this was identified by title written in the \"title_japanese\" column along with a bit of research since this isn't listed on any site.\n",
    "The country listed is the country that had the most involvement in production from what I could find so it may not be 100% accurate as it may have just been completely outsourced."
   ]
  }
 ],
 "metadata": {
  "kernelspec": {
   "display_name": "Python 3 (ipykernel)",
   "language": "python",
   "name": "python3"
  },
  "language_info": {
   "codemirror_mode": {
    "name": "ipython",
    "version": 3
   },
   "file_extension": ".py",
   "mimetype": "text/x-python",
   "name": "python",
   "nbconvert_exporter": "python",
   "pygments_lexer": "ipython3",
   "version": "3.11.4"
  }
 },
 "nbformat": 4,
 "nbformat_minor": 5
}
